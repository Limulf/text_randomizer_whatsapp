{
 "cells": [
  {
   "cell_type": "code",
   "execution_count": 1,
   "metadata": {},
   "outputs": [
    {
     "data": {
      "text/plain": [
       "'\\nCreated on Sun Sep  1 10:13:15 2019\\n\\n@author: juan\\n'"
      ]
     },
     "execution_count": 1,
     "metadata": {},
     "output_type": "execute_result"
    }
   ],
   "source": [
    "#!/usr/bin/env python3\n",
    "# -*- coding: utf-8 -*-\n",
    "\"\"\"\n",
    "Created on Sun Sep  1 10:13:15 2019\n",
    "\n",
    "@author: juan\n",
    "\"\"\""
   ]
  },
  {
   "cell_type": "code",
   "execution_count": null,
   "metadata": {},
   "outputs": [],
   "source": [
    "from functools import partial\n",
    "from itertools import chain, repeat\n",
    "from random import randint, getrandbits"
   ]
  },
  {
   "cell_type": "code",
   "execution_count": 2,
   "metadata": {},
   "outputs": [],
   "source": [
    "from unidecode import unidecode"
   ]
  },
  {
   "cell_type": "code",
   "execution_count": 6,
   "metadata": {},
   "outputs": [],
   "source": [
    "n_min = 1\n",
    "n_max = 2"
   ]
  },
  {
   "cell_type": "code",
   "execution_count": 7,
   "metadata": {},
   "outputs": [],
   "source": [
    "get_rand_number=partial(randint, n_min-1, n_max-1)\n",
    "\n",
    "def repeat_rand_times(char,\n",
    "                      get_rand_number=get_rand_number,\n",
    "                      unidecode=unidecode):\n",
    "    return chain((char,),\n",
    "                 repeat(unidecode(char), get_rand_number()))\n",
    "\n",
    "get_coin_toss = partial(getrandbits, 1)\n",
    "\n",
    "def random_format(txt, whatsapp_formatting_affixes=(\"_\", \"*\", \"~\")):\n",
    "    for afix in whatsapp_formatting_affixes:\n",
    "        if get_coin_toss():\n",
    "            txt = txt.join(repeat(afix, 2))\n",
    "    return txt\n",
    "\n",
    "def random_case(char):\n",
    "    if get_coin_toss():\n",
    "        return char.upper()\n",
    "    else:\n",
    "        return char.lower()\n",
    "\n",
    "def random_name(name=\"Álvaro\"):\n",
    "    rand_length_map = chain.from_iterable(map(repeat_rand_times, name))\n",
    "    first_letter = next(rand_length_map)\n",
    "    rand_case_and_lenght_map = map(random_case, rand_length_map)\n",
    "    unformatted_rand_name_chain = chain((first_letter,),\n",
    "                         rand_case_and_lenght_map)\n",
    "\n",
    "    return random_format(\"\".join(unformatted_rand_name_chain))"
   ]
  },
  {
   "cell_type": "code",
   "execution_count": 8,
   "metadata": {},
   "outputs": [
    {
     "name": "stdout",
     "output_type": "stream",
     "text": [
      "~*_ÁllVvAaRro_*~\n",
      "_ÁllvVaAROO_\n",
      "ÁAlvvARo\n",
      "*ÁLvVaaRoO*\n",
      "~_ÁAlvVaroO_~\n",
      "_ÁlVAaRroO_\n",
      "~*_ÁAlvVarO_*~\n",
      "~*ÁALlvAaRRO*~\n",
      "~_ÁALvVarO_~\n",
      "*ÁaLLVVarO*\n"
     ]
    }
   ],
   "source": [
    "if __name__ == \"__main__\":\n",
    "    for i in range(10):\n",
    "        print(random_name())"
   ]
  },
  {
   "cell_type": "code",
   "execution_count": null,
   "metadata": {},
   "outputs": [],
   "source": []
  }
 ],
 "metadata": {
  "kernelspec": {
   "display_name": "Python 3",
   "language": "python",
   "name": "python3"
  },
  "language_info": {
   "codemirror_mode": {
    "name": "ipython",
    "version": 3
   },
   "file_extension": ".py",
   "mimetype": "text/x-python",
   "name": "python",
   "nbconvert_exporter": "python",
   "pygments_lexer": "ipython3",
   "version": "3.7.3"
  }
 },
 "nbformat": 4,
 "nbformat_minor": 2
}
